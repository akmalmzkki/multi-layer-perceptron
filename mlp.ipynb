{
 "cells": [
  {
   "attachments": {},
   "cell_type": "markdown",
   "metadata": {},
   "source": [
    "## Persiapan Dataset dan Library"
   ]
  },
  {
   "cell_type": "code",
   "execution_count": 23,
   "metadata": {
    "ExecuteTime": {
     "start_time": "2023-06-14T12:50:41.558473400Z"
    },
    "id": "U2Q6u1pNNXx9",
    "is_executing": true
   },
   "outputs": [],
   "source": [
    "import pandas as pd\n",
    "import matplotlib.pyplot as plt\n",
    "import numpy as np\n",
    "\n",
    "from sklearn.model_selection import train_test_split\n",
    "from sklearn.preprocessing import MinMaxScaler\n",
    "from sklearn.model_selection import GridSearchCV\n",
    "from sklearn.metrics import mean_squared_error, mean_absolute_error\n",
    "\n",
    "from keras.models import Sequential\n",
    "from keras.layers import Dense, Dropout\n",
    "from keras import Input\n",
    "from keras.wrappers.scikit_learn import KerasRegressor\n",
    "\n",
    "%matplotlib inline\n",
    "pd.set_option('display.max_columns', None)"
   ]
  },
  {
   "cell_type": "code",
   "execution_count": 2,
   "metadata": {
    "colab": {
     "base_uri": "https://localhost:8080/",
     "height": 467
    },
    "id": "sNHGzlz6NyOo",
    "outputId": "4fc5dc9a-903a-41cf-ef3e-77643867ab61"
   },
   "outputs": [
    {
     "data": {
      "text/html": [
       "<div>\n",
       "<style scoped>\n",
       "    .dataframe tbody tr th:only-of-type {\n",
       "        vertical-align: middle;\n",
       "    }\n",
       "\n",
       "    .dataframe tbody tr th {\n",
       "        vertical-align: top;\n",
       "    }\n",
       "\n",
       "    .dataframe thead th {\n",
       "        text-align: right;\n",
       "    }\n",
       "</style>\n",
       "<table border=\"1\" class=\"dataframe\">\n",
       "  <thead>\n",
       "    <tr style=\"text-align: right;\">\n",
       "      <th></th>\n",
       "      <th>GDP</th>\n",
       "      <th>Exports</th>\n",
       "      <th>Imports</th>\n",
       "      <th>Industrial production growth rate</th>\n",
       "      <th>Investment</th>\n",
       "      <th>Unemployment rate</th>\n",
       "    </tr>\n",
       "  </thead>\n",
       "  <tbody>\n",
       "    <tr>\n",
       "      <th>0</th>\n",
       "      <td>3745000000000</td>\n",
       "      <td>538800000000</td>\n",
       "      <td>401800000000</td>\n",
       "      <td>6.6</td>\n",
       "      <td>24.0</td>\n",
       "      <td>4.7</td>\n",
       "    </tr>\n",
       "    <tr>\n",
       "      <th>1</th>\n",
       "      <td>2362000000000</td>\n",
       "      <td>893300000000</td>\n",
       "      <td>716700000000</td>\n",
       "      <td>2.2</td>\n",
       "      <td>17.6</td>\n",
       "      <td>10.6</td>\n",
       "    </tr>\n",
       "    <tr>\n",
       "      <th>2</th>\n",
       "      <td>310200000000</td>\n",
       "      <td>113000000000</td>\n",
       "      <td>36210000000</td>\n",
       "      <td>2.8</td>\n",
       "      <td>17.2</td>\n",
       "      <td>25.0</td>\n",
       "    </tr>\n",
       "    <tr>\n",
       "      <th>3</th>\n",
       "      <td>1408000000000</td>\n",
       "      <td>162500000000</td>\n",
       "      <td>92910000000</td>\n",
       "      <td>6.4</td>\n",
       "      <td>19.1</td>\n",
       "      <td>8.3</td>\n",
       "    </tr>\n",
       "    <tr>\n",
       "      <th>4</th>\n",
       "      <td>251900000000</td>\n",
       "      <td>130700000000</td>\n",
       "      <td>121100000000</td>\n",
       "      <td>4.7</td>\n",
       "      <td>20.4</td>\n",
       "      <td>3.4</td>\n",
       "    </tr>\n",
       "    <tr>\n",
       "      <th>...</th>\n",
       "      <td>...</td>\n",
       "      <td>...</td>\n",
       "      <td>...</td>\n",
       "      <td>...</td>\n",
       "      <td>...</td>\n",
       "      <td>...</td>\n",
       "    </tr>\n",
       "    <tr>\n",
       "      <th>144</th>\n",
       "      <td>1609000000000</td>\n",
       "      <td>336400000000</td>\n",
       "      <td>329300000000</td>\n",
       "      <td>0.7</td>\n",
       "      <td>19.3</td>\n",
       "      <td>8.6</td>\n",
       "    </tr>\n",
       "    <tr>\n",
       "      <th>145</th>\n",
       "      <td>937600000000</td>\n",
       "      <td>172500000000</td>\n",
       "      <td>222000000000</td>\n",
       "      <td>3.0</td>\n",
       "      <td>25.4</td>\n",
       "      <td>10.4</td>\n",
       "    </tr>\n",
       "    <tr>\n",
       "      <th>146</th>\n",
       "      <td>1782000000000</td>\n",
       "      <td>347200000000</td>\n",
       "      <td>439400000000</td>\n",
       "      <td>0.9</td>\n",
       "      <td>16.2</td>\n",
       "      <td>4.8</td>\n",
       "    </tr>\n",
       "    <tr>\n",
       "      <th>147</th>\n",
       "      <td>611700000000</td>\n",
       "      <td>86890000000</td>\n",
       "      <td>98100000000</td>\n",
       "      <td>1.9</td>\n",
       "      <td>25.3</td>\n",
       "      <td>5.1</td>\n",
       "    </tr>\n",
       "    <tr>\n",
       "      <th>148</th>\n",
       "      <td>11750000000000</td>\n",
       "      <td>795000000000</td>\n",
       "      <td>1476000000000</td>\n",
       "      <td>4.4</td>\n",
       "      <td>15.7</td>\n",
       "      <td>5.5</td>\n",
       "    </tr>\n",
       "  </tbody>\n",
       "</table>\n",
       "<p>149 rows × 6 columns</p>\n",
       "</div>"
      ],
      "text/plain": [
       "                GDP       Exports        Imports  \\\n",
       "0     3745000000000  538800000000   401800000000   \n",
       "1     2362000000000  893300000000   716700000000   \n",
       "2      310200000000  113000000000    36210000000   \n",
       "3     1408000000000  162500000000    92910000000   \n",
       "4      251900000000  130700000000   121100000000   \n",
       "..              ...           ...            ...   \n",
       "144   1609000000000  336400000000   329300000000   \n",
       "145    937600000000  172500000000   222000000000   \n",
       "146   1782000000000  347200000000   439400000000   \n",
       "147    611700000000   86890000000    98100000000   \n",
       "148  11750000000000  795000000000  1476000000000   \n",
       "\n",
       "     Industrial production growth rate  Investment  Unemployment rate  \n",
       "0                                  6.6        24.0                4.7  \n",
       "1                                  2.2        17.6               10.6  \n",
       "2                                  2.8        17.2               25.0  \n",
       "3                                  6.4        19.1                8.3  \n",
       "4                                  4.7        20.4                3.4  \n",
       "..                                 ...         ...                ...  \n",
       "144                                0.7        19.3                8.6  \n",
       "145                                3.0        25.4               10.4  \n",
       "146                                0.9        16.2                4.8  \n",
       "147                                1.9        25.3                5.1  \n",
       "148                                4.4        15.7                5.5  \n",
       "\n",
       "[149 rows x 6 columns]"
      ]
     },
     "execution_count": 2,
     "metadata": {},
     "output_type": "execute_result"
    }
   ],
   "source": [
    "# Load data and filtering\n",
    "df = pd.read_csv('factbook_tr.csv')\n",
    "df = df[['GDP', 'Exports', 'Imports', 'Industrial production growth rate', 'Investment', 'Unemployment rate']]\n",
    "df"
   ]
  },
  {
   "attachments": {},
   "cell_type": "markdown",
   "metadata": {},
   "source": [
    "# Membagi Data Menjadi Data Latih dan Data Uji"
   ]
  },
  {
   "cell_type": "code",
   "execution_count": 3,
   "metadata": {
    "id": "ixg2gL5yN0j5"
   },
   "outputs": [],
   "source": [
    "# Membagi data menjadi data training dan data testing\n",
    "X = df.drop('GDP', axis=1)\n",
    "y = df['GDP']\n",
    "\n",
    "x_train, x_test, y_train, y_test = train_test_split(X, y, test_size=0.2, random_state=101)"
   ]
  },
  {
   "attachments": {},
   "cell_type": "markdown",
   "metadata": {},
   "source": [
    "## Normalisasi Data"
   ]
  },
  {
   "cell_type": "code",
   "execution_count": 4,
   "metadata": {
    "id": "vsJbCCeBN4PT"
   },
   "outputs": [],
   "source": [
    "# Normalisasi data\n",
    "scaler = MinMaxScaler()\n",
    "x_train = pd.DataFrame(scaler.fit_transform(x_train), columns=x_train.columns)\n",
    "x_test = pd.DataFrame(scaler.transform(x_test), columns=x_test.columns)\n",
    "y_train = pd.DataFrame(scaler.fit_transform(y_train.values.reshape(-1, 1)), columns=['GDP'])\n",
    "y_test = pd.DataFrame(scaler.transform(y_test.values.reshape(-1, 1)), columns=['GDP'])"
   ]
  },
  {
   "cell_type": "code",
   "execution_count": 11,
   "metadata": {
    "colab": {
     "base_uri": "https://localhost:8080/"
    },
    "id": "c4cneLrPN7DA",
    "outputId": "a5b3bcbc-f331-49d3-aaed-519a5465ffc3"
   },
   "outputs": [
    {
     "name": "stdout",
     "output_type": "stream",
     "text": [
      "(119, 5)\n",
      "(30, 1)\n"
     ]
    }
   ],
   "source": [
    "# Menampilkan shape setiap layer\n",
    "print(x_train.shape)\n",
    "print(y_test.shape)"
   ]
  },
  {
   "attachments": {},
   "cell_type": "markdown",
   "metadata": {},
   "source": [
    "# Membuat Fungsi Create Model"
   ]
  },
  {
   "attachments": {},
   "cell_type": "markdown",
   "metadata": {},
   "source": [
    "Fungsi create model digunakan untuk membantu proses pembuatan model. Fungsi ini akan mengembalikan model yang telah dibuat. Model yang dibuat menggunakan 3 layer yaitu input layer, hidden layer, dan output layer. Input layer memiliki 5 neuron, dan output layer memiliki 1 neuron. Fungsi aktivasi yang digunakan pada input layer dan hidden layer adalah relu, sedangkan pada output layer adalah linear. Fungsi aktivasi relu digunakan untuk mengatasi masalah vanishing gradient, sedangkan fungsi aktivasi linear digunakan untuk menghasilkan output yang berupa bilangan real. Keluaran dari fungsi ini nantinya adalah menentukan berapa banyak neuron yang akan digunakan pada setiap hidden layer dan berapa banyak hidden layer yang akan digunakan."
   ]
  },
  {
   "cell_type": "code",
   "execution_count": 12,
   "metadata": {},
   "outputs": [],
   "source": [
    "# Fungsi untuk membuat model MLP\n",
    "def create_model(hidden_layers, neurons):\n",
    "    model = Sequential()\n",
    "    model.add(Input(shape=(x_train.shape[1],), name='input'))\n",
    "    for _ in range(hidden_layers-1):\n",
    "        model.add(Dense(neurons, activation='relu'))\n",
    "    model.add(Dense(y_test.shape[1], activation='linear', name='output'))\n",
    "    model.compile(loss='mse', optimizer='adam', metrics=['mse', 'mae'])\n",
    "    return model"
   ]
  },
  {
   "cell_type": "code",
   "execution_count": 13,
   "metadata": {},
   "outputs": [
    {
     "name": "stderr",
     "output_type": "stream",
     "text": [
      "C:\\Users\\akmal\\AppData\\Local\\Temp\\ipykernel_20020\\872168717.py:2: DeprecationWarning: KerasRegressor is deprecated, use Sci-Keras (https://github.com/adriangb/scikeras) instead. See https://www.adriangb.com/scikeras/stable/migration.html for help migrating.\n",
      "  model = KerasRegressor(build_fn=create_model, verbose=0)\n"
     ]
    }
   ],
   "source": [
    "# Membungkus model dengan KerasRegressor\n",
    "model = KerasRegressor(build_fn=create_model, verbose=0)"
   ]
  },
  {
   "cell_type": "code",
   "execution_count": 15,
   "metadata": {},
   "outputs": [
    {
     "name": "stdout",
     "output_type": "stream",
     "text": [
      "WARNING:tensorflow:5 out of the last 5 calls to <function Model.make_predict_function.<locals>.predict_function at 0x000001F228BCBEE0> triggered tf.function retracing. Tracing is expensive and the excessive number of tracings could be due to (1) creating @tf.function repeatedly in a loop, (2) passing tensors with different shapes, (3) passing Python objects instead of tensors. For (1), please define your @tf.function outside of the loop. For (2), @tf.function has reduce_retracing=True option that can avoid unnecessary retracing. For (3), please refer to https://www.tensorflow.org/guide/function#controlling_retracing and https://www.tensorflow.org/api_docs/python/tf/function for  more details.\n",
      "WARNING:tensorflow:6 out of the last 6 calls to <function Model.make_predict_function.<locals>.predict_function at 0x000001F228D6F280> triggered tf.function retracing. Tracing is expensive and the excessive number of tracings could be due to (1) creating @tf.function repeatedly in a loop, (2) passing tensors with different shapes, (3) passing Python objects instead of tensors. For (1), please define your @tf.function outside of the loop. For (2), @tf.function has reduce_retracing=True option that can avoid unnecessary retracing. For (3), please refer to https://www.tensorflow.org/guide/function#controlling_retracing and https://www.tensorflow.org/api_docs/python/tf/function for  more details.\n",
      "Best params:  {'hidden_layers': 4, 'neurons': 15}\n"
     ]
    }
   ],
   "source": [
    "# Melakukan proses pencarian parameter terbaik\n",
    "params = {\n",
    "    'hidden_layers': [1, 2, 3, 4],\n",
    "    'neurons': [i for i in range(1, 20)]\n",
    "}\n",
    "\n",
    "gridSearch = GridSearchCV(estimator=model, param_grid=params, cv=5, scoring='neg_mean_squared_error')\n",
    "result = gridSearch.fit(x_train, y_train, epochs=100, batch_size=10, verbose=0)\n",
    "\n",
    "print(\"Best params: \", result.best_params_)"
   ]
  },
  {
   "attachments": {},
   "cell_type": "markdown",
   "metadata": {},
   "source": [
    "Dari output didapatkan, bahwa parameter terbaik adalah dengan jumlah hidden layer = 4 dan jumlah neuron = 15. Kami mengasumsikan untuk setiap hidden layer dari hidden layer 1 sd 4 memiliki jumlah neuron dikurang dengan 4 neuron dari hidden layer sebelumnya. Sehingga jumlah neuron pada setiap hidden layer adalah 15, 11, 7, dan 3."
   ]
  },
  {
   "attachments": {},
   "cell_type": "markdown",
   "metadata": {},
   "source": [
    "# Multi Layer Perceptron"
   ]
  },
  {
   "attachments": {},
   "cell_type": "markdown",
   "metadata": {},
   "source": [
    "Langkah-langkah yang dilakukan pada MLP adalah sebagai berikut:\n",
    "1. Mempersiapkan dataset\n",
    "2. Normalisasikan data\n",
    "3. Membagi data menjadi data latih dan data uji\n",
    "4. Inisialisasi arsitektur MLP\n",
    "5. Inisialisasi bobot dan bias (langsung dilakukan oleh keras)\n",
    "6. Propagasi maju\n",
    "7. Propagasi mundur (langsung dilakukan oleh keras)\n",
    "8. Melakukan iterasi pelatihan (epochs)\n",
    "9. Evaluasi model\n",
    "10. Prediksi"
   ]
  },
  {
   "cell_type": "code",
   "execution_count": 16,
   "metadata": {
    "id": "KS6g0XsQN9wg"
   },
   "outputs": [],
   "source": [
    "# Pembuatan model neural network\n",
    "model = Sequential()\n",
    "model.add(Input(shape=(x_train.shape[1],), name='input')) # Input layer dengan 5 neuron\n",
    "model.add(Dense(15, activation='relu', name='hidden1')) # Hidden layer 1 dengan 15 neuron\n",
    "model.add(Dropout(0.01)) # Lapisan Dropout dengan dropout rate 0.01\n",
    "model.add(Dense(11, activation='relu', name='hidden2')) # Hidden layer 2 dengan 11 neuron\n",
    "model.add(Dropout(0.01)) # Lapisan Dropout dengan dropout rate 0.01\n",
    "model.add(Dense(7, activation='relu', name='hidden3')) # Hidden layer 3 dengan 7 neuron\n",
    "model.add(Dropout(0.01)) # Lapisan Dropout dengan dropout rate 0.01\n",
    "model.add(Dense(3, activation='relu', name='hidden4')) # Hidden layer 4 dengan 3 neuron\n",
    "model.add(Dropout(0.01)) # Lapisan Dropout dengan dropout rate 0.01\n",
    "model.add(Dense(y_test.shape[1], name='output')) # Output layer dengan 1 neuron"
   ]
  },
  {
   "attachments": {},
   "cell_type": "markdown",
   "metadata": {
    "id": "G64PlCgGxvMg"
   },
   "source": [
    "Penjelasan setiap parameter pada program MLP diatas adalah:\n",
    "1. Sequential ->  Ini adalah jenis model yang digunakan dalam Keras untuk membuat model neural network berurutan. Model berurutan berarti bahwa setiap lapisan ditambahkan secara berurutan satu per satu.\n",
    "2. Input -> Ini adalah lapisan input yang menentukan bentuk input data. Dalam kasus ini, input layer memiliki 5 fitur (atribut) dan menggunakan 'input' sebagai nama lapisan.\n",
    "3. Dense -> Digunakan untuk menentukan lapisan Dense (sepenuhnya terhubung) dalam model neural network. Dalam kasus ini, kami membaginya ke dalam 4 lapisan hidden layer, dengan lapisan pertama terdiri dari 15 neuron, lapisan kedua terdiri dari 11 neuron, lapisan ketiga terdiri dari 7 neuron, dan lapisan keempat terdiri dari 3 neurons, sedangkan lapisan output memiliki 1 neuron karena hanya terdapat 1 output\n",
    "4. Dropout -> Digunakan untuk mengurangi overfitting pada mode. Dalam kasus ini, dropout rate ditentukan dengan angka 0.2, yang berarti 20% neuron akan dinonaktifkan secara acak."
   ]
  },
  {
   "cell_type": "code",
   "execution_count": 17,
   "metadata": {
    "colab": {
     "base_uri": "https://localhost:8080/"
    },
    "id": "5pjR-2gdOApH",
    "outputId": "7d2ca1a8-85df-4eb4-8d4b-ab852df65a48"
   },
   "outputs": [
    {
     "name": "stdout",
     "output_type": "stream",
     "text": [
      "Model: \"sequential_381\"\n",
      "_________________________________________________________________\n",
      " Layer (type)                Output Shape              Param #   \n",
      "=================================================================\n",
      " hidden1 (Dense)             (None, 15)                90        \n",
      "                                                                 \n",
      " dropout (Dropout)           (None, 15)                0         \n",
      "                                                                 \n",
      " hidden2 (Dense)             (None, 11)                176       \n",
      "                                                                 \n",
      " dropout_1 (Dropout)         (None, 11)                0         \n",
      "                                                                 \n",
      " hidden3 (Dense)             (None, 7)                 84        \n",
      "                                                                 \n",
      " dropout_2 (Dropout)         (None, 7)                 0         \n",
      "                                                                 \n",
      " hidden4 (Dense)             (None, 3)                 24        \n",
      "                                                                 \n",
      " dropout_3 (Dropout)         (None, 3)                 0         \n",
      "                                                                 \n",
      " output (Dense)              (None, 1)                 4         \n",
      "                                                                 \n",
      "=================================================================\n",
      "Total params: 378\n",
      "Trainable params: 378\n",
      "Non-trainable params: 0\n",
      "_________________________________________________________________\n"
     ]
    }
   ],
   "source": [
    "model.summary()"
   ]
  },
  {
   "attachments": {},
   "cell_type": "markdown",
   "metadata": {
    "id": "9ksSqScG2AAr"
   },
   "source": [
    "Dari visualisasi menggunakan tabel dapat diketahui ringkasan arsitektur model yang telah dibuat seperti, jumlah parameter yang dapat dioptimalkan dan juga ukuran output dari setiap layer dalam model."
   ]
  },
  {
   "attachments": {},
   "cell_type": "markdown",
   "metadata": {},
   "source": [
    "## Compile dan Fit Model"
   ]
  },
  {
   "cell_type": "code",
   "execution_count": 26,
   "metadata": {
    "colab": {
     "base_uri": "https://localhost:8080/"
    },
    "id": "onYOqF5UOCO0",
    "outputId": "067c0492-1bef-4e20-cf1e-869ce10af826"
   },
   "outputs": [
    {
     "data": {
      "text/plain": [
       "<keras.callbacks.History at 0x1f22c67b8e0>"
      ]
     },
     "execution_count": 26,
     "metadata": {},
     "output_type": "execute_result"
    }
   ],
   "source": [
    "# Compile dan fit model\n",
    "model.compile(optimizer='adam', loss='mse', metrics=['mse'])\n",
    "model.fit(x_train, y_train, epochs=1000, batch_size=32, verbose=0, validation_data=(x_test, y_test))"
   ]
  },
  {
   "cell_type": "code",
   "execution_count": 19,
   "metadata": {
    "colab": {
     "base_uri": "https://localhost:8080/"
    },
    "id": "6FFWZZPcOGw4",
    "outputId": "413389cf-64c3-4b17-a470-25256eb689ab"
   },
   "outputs": [
    {
     "data": {
      "text/plain": [
       "{'loss': [0.0008051318000070751,\n",
       "  0.0007269249181263149,\n",
       "  0.0009314263588748872,\n",
       "  0.0006234591128304601,\n",
       "  0.0006537013687193394,\n",
       "  0.001022839336656034,\n",
       "  0.000938061042688787,\n",
       "  0.0033350230660289526,\n",
       "  0.000676022085826844,\n",
       "  0.000707097991835326],\n",
       " 'mse': [0.0008051317417994142,\n",
       "  0.0007269249181263149,\n",
       "  0.0009314263588748872,\n",
       "  0.0006234591128304601,\n",
       "  0.0006537013687193394,\n",
       "  0.001022839336656034,\n",
       "  0.000938061042688787,\n",
       "  0.0033350232988595963,\n",
       "  0.000676022085826844,\n",
       "  0.000707097991835326],\n",
       " 'val_loss': [0.008836312219500542,\n",
       "  0.008739900775253773,\n",
       "  0.008361524902284145,\n",
       "  0.00785718485713005,\n",
       "  0.007767838425934315,\n",
       "  0.008004635572433472,\n",
       "  0.008094348944723606,\n",
       "  0.008028795942664146,\n",
       "  0.008014975115656853,\n",
       "  0.008076580241322517],\n",
       " 'val_mse': [0.008836312219500542,\n",
       "  0.008739900775253773,\n",
       "  0.008361524902284145,\n",
       "  0.00785718485713005,\n",
       "  0.007767838425934315,\n",
       "  0.008004635572433472,\n",
       "  0.008094348944723606,\n",
       "  0.008028795942664146,\n",
       "  0.008014975115656853,\n",
       "  0.008076580241322517]}"
      ]
     },
     "execution_count": 19,
     "metadata": {},
     "output_type": "execute_result"
    }
   ],
   "source": [
    "# Menampilkan hasil prediksi\n",
    "history = model.fit(x_train, y_train, epochs=10, batch_size=32, verbose=0,\n",
    "                    validation_data=(x_test, y_test))\n",
    "history.history"
   ]
  },
  {
   "attachments": {},
   "cell_type": "markdown",
   "metadata": {
    "id": "pCsozMyX1L9m"
   },
   "source": [
    "Akan diambil history dari training model yang dapat digunakan untuk menganalisis dan mempresentasikan kinerja model selama training."
   ]
  },
  {
   "attachments": {},
   "cell_type": "markdown",
   "metadata": {},
   "source": [
    "## Plotting Loss dan Akurasi"
   ]
  },
  {
   "cell_type": "code",
   "execution_count": 20,
   "metadata": {
    "colab": {
     "base_uri": "https://localhost:8080/",
     "height": 309
    },
    "id": "nUdAQvibOIsb",
    "outputId": "359fcaf9-dbda-41b1-cd4c-b0153ff0d31f"
   },
   "outputs": [
    {
     "data": {
      "text/plain": [
       "<matplotlib.legend.Legend at 0x1f228ff7d30>"
      ]
     },
     "execution_count": 20,
     "metadata": {},
     "output_type": "execute_result"
    },
    {
     "data": {
      "image/png": "[encoded data removed]",
      "text/plain": [
       "<Figure size 1000x300 with 2 Axes>"
      ]
     },
     "metadata": {},
     "output_type": "display_data"
    }
   ],
   "source": [
    "# Plot history loss dan mse\n",
    "fig, ax = plt.subplots(1, 2, figsize=(10, 3))\n",
    "ax[0].plot(history.history['loss'], label='loss', marker='o')\n",
    "ax[0].plot(history.history['val_loss'], label='val_loss', marker='o')\n",
    "ax[0].legend()\n",
    "\n",
    "ax[1].plot(history.history['mse'], label='mse', marker='o')\n",
    "ax[1].plot(history.history['val_mse'], label='val_mse', marker='o')\n",
    "ax[1].legend()"
   ]
  },
  {
   "attachments": {},
   "cell_type": "markdown",
   "metadata": {
    "id": "XncxNtcUyAV5"
   },
   "source": [
    "Dibuat visualisasi yang menampilkan perubahan nilai loss dan nilai MSE pada saat dilakukan proses model neural network. Dari hasil visualisasi dapat diketahui bahwa nilai loss cenderung semakin kecil yang berarti performa model yang dibuat telah baik karena prediksi model sudah mendekati nilai sebenarnya dari data . Begitu juga dengan nilai MSE dari hasil visualisasi didapatkan bahwa nilai MSE pada data training dan data validasi cenderung semakin kecil dan konsisten yang berarti model yang dibuat telah baik dalam melakukan generalisasi."
   ]
  },
  {
   "attachments": {},
   "cell_type": "markdown",
   "metadata": {},
   "source": [
    "## Evaluasi Model"
   ]
  },
  {
   "cell_type": "code",
   "execution_count": 25,
   "metadata": {
    "colab": {
     "base_uri": "https://localhost:8080/"
    },
    "id": "f4kYpHxeOKk2",
    "outputId": "5b72da41-ed22-4903-bb4f-a4746e49561d"
   },
   "outputs": [
    {
     "name": "stdout",
     "output_type": "stream",
     "text": [
      "1/1 [==============================] - 0s 25ms/step\n",
      "RMSE:  0.08986979531809514\n",
      "MAE:  0.025769443065386317\n"
     ]
    }
   ],
   "source": [
    "y_pred = model.predict(x_test)\n",
    "print(\"RMSE: \", np.sqrt(mean_squared_error(y_test, y_pred)))\n",
    "print(\"MAE: \", mean_absolute_error(y_test, y_pred))"
   ]
  },
  {
   "attachments": {},
   "cell_type": "markdown",
   "metadata": {
    "id": "AKgxeirdyOEd"
   },
   "source": [
    "Nilai RMSE sebesar 0.0898 menunjukkan bahwa rata-rata kesalahan prediksi model (dalam satuan target asli) adalah sekitar 0.0898. Semakin kecil nilai RMSE, semakin baik performa model dalam memprediksi nilai target dengan akurat. Sementara itu, nilai MAE sebesar 0.0258 menunjukkan bahwa rata-rata selisih absolut antara nilai aktual dan nilai prediksi adalah sekitar 0.0258. MAE memberikan gambaran tentang seberapa dekat nilai prediksi dengan nilai aktual dalam skala absolut. Dalam kedua metrik evaluasi ini, semakin rendah nilai RMSE atau MAE, semakin baik performa model regresi dalam memprediksi nilai target dengan akurat dan mendekati nilai sebenarnya."
   ]
  },
  {
   "cell_type": "code",
   "execution_count": 22,
   "metadata": {
    "colab": {
     "base_uri": "https://localhost:8080/",
     "height": 463
    },
    "id": "O4dvg7zBOPkj",
    "outputId": "13d98705-08e2-469d-b5ea-102f5e849594"
   },
   "outputs": [
    {
     "data": {
      "text/plain": [
       "<matplotlib.legend.Legend at 0x1f22b4999d0>"
      ]
     },
     "execution_count": 22,
     "metadata": {},
     "output_type": "execute_result"
    },
    {
     "data": {
      "image/png": "[encoded data removed]",
      "text/plain": [
       "<Figure size 1000x500 with 1 Axes>"
      ]
     },
     "metadata": {},
     "output_type": "display_data"
    }
   ],
   "source": [
    "# Plot hasil prediksi\n",
    "plt.figure(figsize=(10, 5))\n",
    "plt.plot(y_test, label='Actual')\n",
    "plt.plot(y_pred, label='Predicted')\n",
    "plt.legend()"
   ]
  },
  {
   "attachments": {},
   "cell_type": "markdown",
   "metadata": {
    "id": "mCpUlQsCyTs3"
   },
   "source": [
    "Gambar diatas merupakan hasil visualisasi yang digunakan untuk membandingkan nilai hasil prediksi yang dihasilkan oleh model yang telah dibuat dengan nilai sebenarnya yang ada pada dataset. Dapat diketahui bahwa model yang telah dibuat mengikuti tren yang sama dengan data yang sebenarnya."
   ]
  }
 ],
 "metadata": {
  "colab": {
   "provenance": []
  },
  "kernelspec": {
   "display_name": "Python 3 (ipykernel)",
   "language": "python",
   "name": "python3"
  },
  "language_info": {
   "codemirror_mode": {
    "name": "ipython",
    "version": 3
   },
   "file_extension": ".py",
   "mimetype": "text/x-python",
   "name": "python",
   "nbconvert_exporter": "python",
   "pygments_lexer": "ipython3",
   "version": "3.10.9"
  }
 },
 "nbformat": 4,
 "nbformat_minor": 0
}
